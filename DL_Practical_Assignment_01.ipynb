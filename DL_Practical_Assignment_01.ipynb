{
  "nbformat": 4,
  "nbformat_minor": 0,
  "metadata": {
    "colab": {
      "provenance": [],
      "authorship_tag": "ABX9TyMu3uwqMWU80tHo5BHthBO/",
      "include_colab_link": true
    },
    "kernelspec": {
      "name": "python3",
      "display_name": "Python 3"
    },
    "language_info": {
      "name": "python"
    }
  },
  "cells": [
    {
      "cell_type": "markdown",
      "metadata": {
        "id": "view-in-github",
        "colab_type": "text"
      },
      "source": [
        "<a href=\"https://colab.research.google.com/github/KirtiKousik/iNeuron-DL-Practical-Assignment/blob/main/DL_Practical_Assignment_01.ipynb\" target=\"_parent\"><img src=\"https://colab.research.google.com/assets/colab-badge.svg\" alt=\"Open In Colab\"/></a>"
      ]
    },
    {
      "cell_type": "markdown",
      "source": [
        "## Q-1) Objective: - Predict Next Sequence\n",
        "\n",
        "To start with deep learning, the very basic project that you can build is to predict the next digit in a sequence.\n",
        "\n",
        "`Dataset`: - Create a sequence like a list of odd numbers and then build a model and train it to predict the next digit in the sequence.\n",
        "\n",
        "`Task`: - A simple neural network with 2 layers would be sufficient to build the model."
      ],
      "metadata": {
        "id": "-aeV4b3RhGWS"
      }
    },
    {
      "cell_type": "code",
      "execution_count": 6,
      "metadata": {
        "colab": {
          "base_uri": "https://localhost:8080/"
        },
        "id": "0H4ndNS7g5-H",
        "outputId": "7e51322a-aed6-442d-f11f-d239263e3738"
      },
      "outputs": [
        {
          "output_type": "stream",
          "name": "stdout",
          "text": [
            "1/1 [==============================] - 0s 120ms/step\n",
            "Next digit in the sequence: 20\n"
          ]
        }
      ],
      "source": [
        "import tensorflow as tf\n",
        "import numpy as np\n",
        "\n",
        "# Generating a sequence of odd numbers\n",
        "sequence = [i for i in range(1, 20) if i % 2 != 0]\n",
        "\n",
        "# Prepare the data\n",
        "X = np.array(sequence[:-1])  # Input sequence (excluding the last element)\n",
        "y = np.array(sequence[1:])   # Output sequence (excluding the first element)\n",
        "\n",
        "# Build the neural network model\n",
        "model = tf.keras.Sequential([\n",
        "    tf.keras.layers.Dense(1, input_shape=[1])\n",
        "])\n",
        "\n",
        "# Compile the model\n",
        "model.compile(optimizer='adam', loss='mean_squared_error')\n",
        "\n",
        "# Train the model\n",
        "model.fit(X, y, epochs=1000, verbose=0)\n",
        "\n",
        "# Make predictions\n",
        "next_digit = model.predict(np.array([X[-1]]))[0][0]\n",
        "\n",
        "# Round the prediction to the nearest integer\n",
        "next_digit = int(round(next_digit))\n",
        "\n",
        "print(\"Next digit in the sequence:\", next_digit)"
      ]
    }
  ]
}